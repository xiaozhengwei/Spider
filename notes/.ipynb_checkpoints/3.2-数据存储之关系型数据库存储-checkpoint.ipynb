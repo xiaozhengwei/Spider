{
 "cells": [
  {
   "cell_type": "code",
   "execution_count": 23,
   "metadata": {},
   "outputs": [],
   "source": [
    "import pymysql"
   ]
  },
  {
   "cell_type": "code",
   "execution_count": 43,
   "metadata": {},
   "outputs": [
    {
     "name": "stdout",
     "output_type": "stream",
     "text": [
      "Database version ('5.7.25-0ubuntu0.16.04.2',)\n"
     ]
    }
   ],
   "source": [
    "db=pymysql.connect(host='localhost',user=\"root\",password=\"1998zh2003\")\n",
    "cursor=db.cursor()\n",
    "cursor.execute('select version()')\n",
    "data=cursor.fetchone()\n",
    "print('Database version',data)\n",
    "# cursor.execute('CREATE DATABASE spiders DEFAULT CHARACTER SET UTF8') #重复操作会报错\n",
    "db.close()"
   ]
  },
  {
   "cell_type": "markdown",
   "metadata": {},
   "source": [
    "## 创建表 "
   ]
  },
  {
   "cell_type": "code",
   "execution_count": 46,
   "metadata": {},
   "outputs": [],
   "source": [
    "db=pymysql.connect(host='localhost',user=\"root\",password=\"1998zh2003\",db='spiders')\n",
    "# 下面这个也不能重复操作（创建表）\n",
    "# cursor=db.cursor()\n",
    "# sql='CREATE TABLE IF NOT EXISTS students(id VARCHAR(255) NOT NULL,name VARCHAR(255) NOT NULL,age INT NOT NULL,PRIMARY KEY(id) )'\n",
    "# cursor.execute(sql)\n",
    "db.close()"
   ]
  },
  {
   "cell_type": "code",
   "execution_count": 53,
   "metadata": {},
   "outputs": [
    {
     "name": "stdout",
     "output_type": "stream",
     "text": [
      "出错了\n"
     ]
    }
   ],
   "source": [
    "id=\"2016011463\"\n",
    "user=\"yanzhengwei\"\n",
    "age=21\n",
    "db=pymysql.connect(host='localhost',user=\"root\",password=\"1998zh2003\",db='spiders')\n",
    "cursor=db.cursor()\n",
    "sql=\"INSERT INTO students(id,name,age) VALUES(%s,%s,%s)\"\n",
    "try:\n",
    "    cursor.execute(sql,(id,user,age))\n",
    "    db.commit()\n",
    "    print(\"成功执行\")\n",
    "except:\n",
    "    db.rollback()\n",
    "    print(\"出错了\")\n",
    "db.close()"
   ]
  },
  {
   "cell_type": "markdown",
   "metadata": {},
   "source": [
    "### 动态插入 通过字典实现 "
   ]
  },
  {
   "cell_type": "code",
   "execution_count": 56,
   "metadata": {},
   "outputs": [],
   "source": [
    "data={\n",
    "    'id':'2016011111',\n",
    "    'name':'saber',\n",
    "    'age':'23'\n",
    "}"
   ]
  },
  {
   "cell_type": "code",
   "execution_count": 57,
   "metadata": {},
   "outputs": [
    {
     "data": {
      "text/plain": [
       "dict"
      ]
     },
     "execution_count": 57,
     "metadata": {},
     "output_type": "execute_result"
    }
   ],
   "source": [
    "type(data)"
   ]
  },
  {
   "cell_type": "code",
   "execution_count": null,
   "metadata": {},
   "outputs": [],
   "source": [
    "table='students'\n",
    "keys=','.join(data.keys())\n",
    "vaules=','.join(['%s']*len(data))\n",
    "db=pymysql.connect(host='localhost',user=\"root\",password=\"1998zh2003\",db='spiders')\n",
    "cursor=db.cursor()\n",
    "sql='INSERT INTO {table}({keys}) VALUES({values})'.format(table=table,keys=keys,values=vaules)\n",
    "try:\n",
    "    if cursor.execute(sql,tuple(data.values())):\n",
    "        print('Successful')\n",
    "        db.commit()\n",
    "except:\n",
    "    print('Failed')\n",
    "    db.rollback()\n",
    "db.close()"
   ]
  },
  {
   "cell_type": "markdown",
   "metadata": {},
   "source": [
    "## 更新数据 "
   ]
  },
  {
   "cell_type": "code",
   "execution_count": 66,
   "metadata": {},
   "outputs": [],
   "source": [
    "sql=\"UPDATE students SET age=%s WHERE name=%s\"\n",
    "db=pymysql.connect(host='localhost',user=\"root\",password=\"1998zh2003\",db='spiders')\n",
    "cursor=db.cursor()\n",
    "try:\n",
    "    cursor.execute(sql,(25,'yanzhengwei'))\n",
    "    db.commit()\n",
    "except:\n",
    "    db.rollback()\n",
    "db.close()"
   ]
  },
  {
   "cell_type": "markdown",
   "metadata": {},
   "source": [
    "## 删除数据"
   ]
  },
  {
   "cell_type": "code",
   "execution_count": 67,
   "metadata": {},
   "outputs": [],
   "source": [
    "table='students'\n",
    "condition='age>20'\n",
    "sql='DELETE FROM {table} WHERE {condition}'.format(table=table,condition=condition)\n",
    "db=pymysql.connect(host='localhost',user=\"root\",password=\"1998zh2003\",db='spiders')\n",
    "cursor=db.cursor()\n",
    "try:\n",
    "    cursor.execute(sql)\n",
    "    db.commit()\n",
    "except:\n",
    "    db.rollback()\n",
    "db.close()"
   ]
  },
  {
   "cell_type": "markdown",
   "metadata": {},
   "source": [
    "## 查询数据 "
   ]
  },
  {
   "cell_type": "code",
   "execution_count": 70,
   "metadata": {},
   "outputs": [
    {
     "name": "stdout",
     "output_type": "stream",
     "text": [
      "Count: 0\n",
      "One: None\n",
      "Results: ()\n",
      "Results Type: <class 'tuple'>\n"
     ]
    }
   ],
   "source": [
    "sql=\"SELECT * FROM students WHERE age>=20\"\n",
    "db=pymysql.connect(host='localhost',user=\"root\",password=\"1998zh2003\",db='spiders')\n",
    "cursor=db.cursor()\n",
    "try:\n",
    "    cursor.execute(sql)\n",
    "    print('Count:',cursor.rowcount)\n",
    "    one=cursor.fetchone()\n",
    "    print('One:',one)\n",
    "    results=cursor.fetchall()\n",
    "    print('Results:',results)\n",
    "    print('Results Type:',type(results))\n",
    "    for row in results:\n",
    "        print(row)\n",
    "except:\n",
    "    print('Error')"
   ]
  },
  {
   "cell_type": "code",
   "execution_count": 75,
   "metadata": {},
   "outputs": [
    {
     "name": "stdout",
     "output_type": "stream",
     "text": [
      "Count: 3\n",
      "Row: ('2016011464', 'yanerwei', 25)\n",
      "Row: ('2016011465', 'yansanwei', 25)\n",
      "Row: ('2016011466', 'yansiwei', 25)\n"
     ]
    }
   ],
   "source": [
    "sql='SELECT * FROM students WHERE age>=20'\n",
    "db=pymysql.connect(host='localhost',user=\"root\",password=\"1998zh2003\",db='spiders')\n",
    "cursor=db.cursor()\n",
    "try:\n",
    "    cursor.execute(sql)\n",
    "    print('Count:',cursor.rowcount)\n",
    "    row=cursor.fetchone()\n",
    "    while row:\n",
    "        print('Row:',row)\n",
    "        row=cursor.fetchone()\n",
    "except:\n",
    "    print('Error')"
   ]
  }
 ],
 "metadata": {
  "kernelspec": {
   "display_name": "Python 3",
   "language": "python",
   "name": "python3"
  },
  "language_info": {
   "codemirror_mode": {
    "name": "ipython",
    "version": 3
   },
   "file_extension": ".py",
   "mimetype": "text/x-python",
   "name": "python",
   "nbconvert_exporter": "python",
   "pygments_lexer": "ipython3",
   "version": "3.6.5"
  }
 },
 "nbformat": 4,
 "nbformat_minor": 2
}
