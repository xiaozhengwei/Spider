{
 "cells": [
  {
   "cell_type": "code",
   "execution_count": null,
   "metadata": {},
   "outputs": [],
   "source": [
    "import pymongo"
   ]
  },
  {
   "cell_type": "code",
   "execution_count": 85,
   "metadata": {},
   "outputs": [],
   "source": [
    "client=pymongo.MongoClient(host='localhost',port=27017)\n",
    "# client=pymongo.MongoClient(\"mongodb://localhost:27017\")"
   ]
  },
  {
   "cell_type": "code",
   "execution_count": 86,
   "metadata": {},
   "outputs": [],
   "source": [
    "# 指定要使用的数据库\n",
    "db=client.test\n",
    "# db=client['test']"
   ]
  },
  {
   "cell_type": "code",
   "execution_count": 87,
   "metadata": {},
   "outputs": [],
   "source": [
    "# 指定要使用的集合\n",
    "collection=db.students\n",
    "# db=client['studengs']"
   ]
  },
  {
   "cell_type": "markdown",
   "metadata": {},
   "source": [
    "## 插入数据 "
   ]
  },
  {
   "cell_type": "code",
   "execution_count": 88,
   "metadata": {},
   "outputs": [],
   "source": [
    "student={\n",
    "    'id':'2016011463',\n",
    "    'name':'yanzhengwei',\n",
    "    'age':20,\n",
    "    'gender':'male'\n",
    "}\n",
    "\n",
    "student1={\n",
    "    'id':'2016011464',\n",
    "    'name':'yanerwei',\n",
    "    'age':20,\n",
    "    'gender':'male'\n",
    "}\n",
    "student2={\n",
    "    'id':'2016011465',\n",
    "    'name':'yansanwei',\n",
    "    'age':20,\n",
    "    'gender':'male'\n",
    "}"
   ]
  },
  {
   "cell_type": "code",
   "execution_count": 89,
   "metadata": {},
   "outputs": [
    {
     "name": "stdout",
     "output_type": "stream",
     "text": [
      "[ObjectId('5c82193fa261de2838bf7913'), ObjectId('5c82193fa261de2838bf7914')]\n"
     ]
    },
    {
     "name": "stderr",
     "output_type": "stream",
     "text": [
      "/usr/local/anaconda3/lib/python3.6/site-packages/ipykernel_launcher.py:1: DeprecationWarning: insert is deprecated. Use insert_one or insert_many instead.\n",
      "  \"\"\"Entry point for launching an IPython kernel.\n"
     ]
    }
   ],
   "source": [
    "result=collection.insert([student1,student2])#下方报错是因为python3后的新方法，更好。 insert_one() insert_many()\n",
    "print(result)"
   ]
  },
  {
   "cell_type": "code",
   "execution_count": 90,
   "metadata": {},
   "outputs": [],
   "source": [
    "# python3的新的插入方法"
   ]
  },
  {
   "cell_type": "code",
   "execution_count": 91,
   "metadata": {},
   "outputs": [],
   "source": [
    "student={\n",
    "    'id':'2016011466',\n",
    "    'name':'yansiwei',\n",
    "    'age':20,\n",
    "    'gender':'male'\n",
    "}\n",
    "student1={\n",
    "    'id':'2016011467',\n",
    "    'name':'yawuwei',\n",
    "    'age':23,\n",
    "    'gender':'male'\n",
    "}\n",
    "student2={\n",
    "    'id':'2016011468',\n",
    "    'name':'yanliuwei',\n",
    "    'age':24,\n",
    "    'gender':'male'\n",
    "}"
   ]
  },
  {
   "cell_type": "code",
   "execution_count": 92,
   "metadata": {},
   "outputs": [
    {
     "name": "stdout",
     "output_type": "stream",
     "text": [
      "<pymongo.results.InsertOneResult object at 0x7f98c218fe88>\n"
     ]
    }
   ],
   "source": [
    "result=collection.insert_one(student)\n",
    "print(result)"
   ]
  },
  {
   "cell_type": "code",
   "execution_count": 93,
   "metadata": {},
   "outputs": [
    {
     "name": "stdout",
     "output_type": "stream",
     "text": [
      "<pymongo.results.InsertManyResult object at 0x7f98c21dd4c8>\n"
     ]
    }
   ],
   "source": [
    "result=collection.insert_many([student1,student2])\n",
    "print(result)"
   ]
  },
  {
   "cell_type": "raw",
   "metadata": {},
   "source": [
    "result.inserted_ids"
   ]
  },
  {
   "cell_type": "markdown",
   "metadata": {},
   "source": [
    "## 查询"
   ]
  },
  {
   "cell_type": "code",
   "execution_count": 94,
   "metadata": {},
   "outputs": [],
   "source": [
    "result=collection.find_one({'name':'yanzhengwei'})"
   ]
  },
  {
   "cell_type": "code",
   "execution_count": 95,
   "metadata": {},
   "outputs": [
    {
     "name": "stdout",
     "output_type": "stream",
     "text": [
      "{'_id': ObjectId('5c81f7fba261de2838bf7906'), 'id': '2016011463', 'name': 'yanzhengwei', 'age': 20, 'gender': 'male'}\n"
     ]
    }
   ],
   "source": [
    "print(result)"
   ]
  },
  {
   "cell_type": "code",
   "execution_count": 96,
   "metadata": {},
   "outputs": [
    {
     "name": "stdout",
     "output_type": "stream",
     "text": [
      "<class 'dict'>\n"
     ]
    }
   ],
   "source": [
    "print(type(result))"
   ]
  },
  {
   "cell_type": "code",
   "execution_count": 97,
   "metadata": {},
   "outputs": [],
   "source": [
    "results=collection.find({'age':20})"
   ]
  },
  {
   "cell_type": "code",
   "execution_count": 98,
   "metadata": {},
   "outputs": [
    {
     "name": "stdout",
     "output_type": "stream",
     "text": [
      "<pymongo.cursor.Cursor object at 0x7f98c219e908>\n"
     ]
    }
   ],
   "source": [
    "print(results)"
   ]
  },
  {
   "cell_type": "code",
   "execution_count": 99,
   "metadata": {},
   "outputs": [
    {
     "name": "stdout",
     "output_type": "stream",
     "text": [
      "{'_id': ObjectId('5c81f7fba261de2838bf7906'), 'id': '2016011463', 'name': 'yanzhengwei', 'age': 20, 'gender': 'male'}\n",
      "{'_id': ObjectId('5c81f870a261de2838bf7907'), 'id': '2016011463', 'name': 'yanzhengwei', 'age': 20, 'gender': 'male'}\n",
      "{'_id': ObjectId('5c81f880a261de2838bf7908'), 'id': '2016011464', 'name': 'yanerwei', 'age': 20, 'gender': 'male'}\n",
      "{'_id': ObjectId('5c81f880a261de2838bf7909'), 'id': '2016011465', 'name': 'yansanwei', 'age': 20, 'gender': 'male'}\n",
      "{'_id': ObjectId('5c81fa8ba261de2838bf790a'), 'id': '2016011466', 'name': 'yansiwei', 'age': 20, 'gender': 'male'}\n",
      "{'_id': ObjectId('5c81fb31a261de2838bf790b'), 'id': '2016011466', 'name': 'yansiwei', 'age': 20, 'gender': 'male'}\n",
      "{'_id': ObjectId('5c81fb6ca261de2838bf790c'), 'id': '2016011467', 'name': 'yawuwei', 'age': 20, 'gender': 'male'}\n",
      "{'_id': ObjectId('5c81fb6ca261de2838bf790d'), 'id': '2016011468', 'name': 'yanliuwei', 'age': 20, 'gender': 'male'}\n",
      "{'_id': ObjectId('5c82193fa261de2838bf7913'), 'id': '2016011464', 'name': 'yanerwei', 'age': 20, 'gender': 'male'}\n",
      "{'_id': ObjectId('5c82193fa261de2838bf7914'), 'id': '2016011465', 'name': 'yansanwei', 'age': 20, 'gender': 'male'}\n",
      "{'_id': ObjectId('5c82193fa261de2838bf7915'), 'id': '2016011466', 'name': 'yansiwei', 'age': 20, 'gender': 'male'}\n"
     ]
    }
   ],
   "source": [
    "for result in results:\n",
    "    print(result)"
   ]
  },
  {
   "cell_type": "markdown",
   "metadata": {},
   "source": [
    "$lt  :  小于\n",
    "\n",
    "$gt  ： 大于\n",
    "\n",
    "$lte :  小于等于\n",
    "\n",
    "$gte :  大于等于\n",
    "\n",
    "$ne  :  不等于\n",
    "\n",
    "$in  :  在范围内\n",
    "\n",
    "$nin :  不在范围内"
   ]
  },
  {
   "cell_type": "code",
   "execution_count": 100,
   "metadata": {},
   "outputs": [],
   "source": [
    "results=collection.find({'age':{'$gt':20}})"
   ]
  },
  {
   "cell_type": "code",
   "execution_count": 101,
   "metadata": {},
   "outputs": [
    {
     "name": "stdout",
     "output_type": "stream",
     "text": [
      "{'_id': ObjectId('5c820157a261de2838bf790e'), 'id': '2016011467', 'name': 'yawuwei', 'age': 23, 'gender': 'male'}\n",
      "{'_id': ObjectId('5c82016ea261de2838bf7910'), 'id': '2016011467', 'name': 'yawuwei', 'age': 23, 'gender': 'male'}\n",
      "{'_id': ObjectId('5c82016ea261de2838bf7911'), 'id': '2016011468', 'name': 'yanliuwei', 'age': 24, 'gender': 'male'}\n",
      "{'_id': ObjectId('5c82193fa261de2838bf7916'), 'id': '2016011467', 'name': 'yawuwei', 'age': 23, 'gender': 'male'}\n",
      "{'_id': ObjectId('5c82193fa261de2838bf7917'), 'id': '2016011468', 'name': 'yanliuwei', 'age': 24, 'gender': 'male'}\n"
     ]
    }
   ],
   "source": [
    "for result in results:\n",
    "    print(result)"
   ]
  },
  {
   "cell_type": "markdown",
   "metadata": {},
   "source": [
    "$regex    匹配正则表达式  {'name':{'$regex':'y.*' }}\n",
    "\n",
    "$exists    属性是否存在   {'name':{'$exists':True }}\n",
    "\n",
    "$type     类型判断      {'age':{'$type':'int'  |}\n",
    "\n",
    "$mod      数字模操作    {'age':{'$mod':[5,0]   }}\n",
    "\n",
    "$text     文本查询      {'text':{'$search':'Mike'}}\n",
    "\n",
    "$where    高级条件查询    {'where':'obj.fans_count==obj.follows_count'}"
   ]
  },
  {
   "cell_type": "code",
   "execution_count": 102,
   "metadata": {},
   "outputs": [],
   "source": [
    "results=collection.find({'name':{'$regex':'y..*'}})"
   ]
  },
  {
   "cell_type": "code",
   "execution_count": 103,
   "metadata": {},
   "outputs": [
    {
     "name": "stdout",
     "output_type": "stream",
     "text": [
      "{'_id': ObjectId('5c81f7fba261de2838bf7906'), 'id': '2016011463', 'name': 'yanzhengwei', 'age': 20, 'gender': 'male'}\n",
      "{'_id': ObjectId('5c81f870a261de2838bf7907'), 'id': '2016011463', 'name': 'yanzhengwei', 'age': 20, 'gender': 'male'}\n",
      "{'_id': ObjectId('5c81f880a261de2838bf7908'), 'id': '2016011464', 'name': 'yanerwei', 'age': 20, 'gender': 'male'}\n",
      "{'_id': ObjectId('5c81f880a261de2838bf7909'), 'id': '2016011465', 'name': 'yansanwei', 'age': 20, 'gender': 'male'}\n",
      "{'_id': ObjectId('5c81fa8ba261de2838bf790a'), 'id': '2016011466', 'name': 'yansiwei', 'age': 20, 'gender': 'male'}\n",
      "{'_id': ObjectId('5c81fb31a261de2838bf790b'), 'id': '2016011466', 'name': 'yansiwei', 'age': 20, 'gender': 'male'}\n",
      "{'_id': ObjectId('5c81fb6ca261de2838bf790c'), 'id': '2016011467', 'name': 'yawuwei', 'age': 20, 'gender': 'male'}\n",
      "{'_id': ObjectId('5c81fb6ca261de2838bf790d'), 'id': '2016011468', 'name': 'yanliuwei', 'age': 20, 'gender': 'male'}\n",
      "{'_id': ObjectId('5c820157a261de2838bf790e'), 'id': '2016011467', 'name': 'yawuwei', 'age': 23, 'gender': 'male'}\n",
      "{'_id': ObjectId('5c820157a261de2838bf790f'), 'id': '2016011468', 'name': 'yanliuwei', 'age': 2, 'gender': 'male'}\n",
      "{'_id': ObjectId('5c82016ea261de2838bf7910'), 'id': '2016011467', 'name': 'yawuwei', 'age': 23, 'gender': 'male'}\n",
      "{'_id': ObjectId('5c82016ea261de2838bf7911'), 'id': '2016011468', 'name': 'yanliuwei', 'age': 24, 'gender': 'male'}\n",
      "{'_id': ObjectId('5c82193fa261de2838bf7913'), 'id': '2016011464', 'name': 'yanerwei', 'age': 20, 'gender': 'male'}\n",
      "{'_id': ObjectId('5c82193fa261de2838bf7914'), 'id': '2016011465', 'name': 'yansanwei', 'age': 20, 'gender': 'male'}\n",
      "{'_id': ObjectId('5c82193fa261de2838bf7915'), 'id': '2016011466', 'name': 'yansiwei', 'age': 20, 'gender': 'male'}\n",
      "{'_id': ObjectId('5c82193fa261de2838bf7916'), 'id': '2016011467', 'name': 'yawuwei', 'age': 23, 'gender': 'male'}\n",
      "{'_id': ObjectId('5c82193fa261de2838bf7917'), 'id': '2016011468', 'name': 'yanliuwei', 'age': 24, 'gender': 'male'}\n"
     ]
    }
   ],
   "source": [
    "for result in results:\n",
    "    print(result)"
   ]
  },
  {
   "cell_type": "markdown",
   "metadata": {},
   "source": [
    "## 计数 "
   ]
  },
  {
   "cell_type": "code",
   "execution_count": 104,
   "metadata": {},
   "outputs": [
    {
     "name": "stdout",
     "output_type": "stream",
     "text": [
      "17\n"
     ]
    },
    {
     "name": "stderr",
     "output_type": "stream",
     "text": [
      "/usr/local/anaconda3/lib/python3.6/site-packages/ipykernel_launcher.py:1: DeprecationWarning: count is deprecated. Use Collection.count_documents instead.\n",
      "  \"\"\"Entry point for launching an IPython kernel.\n"
     ]
    }
   ],
   "source": [
    "count=collection.find().count()\n",
    "print(count)"
   ]
  },
  {
   "cell_type": "code",
   "execution_count": 105,
   "metadata": {},
   "outputs": [
    {
     "name": "stdout",
     "output_type": "stream",
     "text": [
      "11\n"
     ]
    },
    {
     "name": "stderr",
     "output_type": "stream",
     "text": [
      "/usr/local/anaconda3/lib/python3.6/site-packages/ipykernel_launcher.py:1: DeprecationWarning: count is deprecated. Use Collection.count_documents instead.\n",
      "  \"\"\"Entry point for launching an IPython kernel.\n"
     ]
    }
   ],
   "source": [
    "count=collection.find({'age':20}).count()\n",
    "print(count)"
   ]
  },
  {
   "cell_type": "markdown",
   "metadata": {},
   "source": [
    "## 排序"
   ]
  },
  {
   "cell_type": "code",
   "execution_count": 110,
   "metadata": {},
   "outputs": [],
   "source": [
    "results=collection.find().sort('name',pymongo.ASCENDING)"
   ]
  },
  {
   "cell_type": "code",
   "execution_count": 111,
   "metadata": {},
   "outputs": [
    {
     "name": "stdout",
     "output_type": "stream",
     "text": [
      "['yanerwei', 'yanerwei', 'yanliuwei', 'yanliuwei', 'yanliuwei', 'yanliuwei', 'yansanwei', 'yansanwei', 'yansiwei', 'yansiwei', 'yansiwei', 'yanzhengwei', 'yanzhengwei', 'yawuwei', 'yawuwei', 'yawuwei', 'yawuwei']\n"
     ]
    }
   ],
   "source": [
    "print([result['name'] for result in results])"
   ]
  },
  {
   "cell_type": "markdown",
   "metadata": {},
   "source": [
    "## 偏移 "
   ]
  },
  {
   "cell_type": "code",
   "execution_count": 121,
   "metadata": {},
   "outputs": [],
   "source": [
    "results=collection.find().sort('name',pymongo.ASCENDING).skip(2)"
   ]
  },
  {
   "cell_type": "code",
   "execution_count": 122,
   "metadata": {},
   "outputs": [
    {
     "name": "stdout",
     "output_type": "stream",
     "text": [
      "['yanliuwei', 'yanliuwei', 'yanliuwei', 'yanliuwei', 'yansanwei', 'yansanwei', 'yansiwei', 'yansiwei', 'yansiwei', 'yanzhengwei', 'yanzhengwei', 'yawuwei', 'yawuwei', 'yawuwei', 'yawuwei']\n"
     ]
    }
   ],
   "source": [
    "print([result['name'] for result in results])"
   ]
  },
  {
   "cell_type": "code",
   "execution_count": 125,
   "metadata": {},
   "outputs": [
    {
     "name": "stdout",
     "output_type": "stream",
     "text": [
      "['yanliuwei', 'yanliuwei']\n"
     ]
    }
   ],
   "source": [
    "#limit()指定个数\n",
    "results=collection.find().sort('name',pymongo.ASCENDING).skip(2).limit(2)\n",
    "print([result['name'] for result in results])"
   ]
  },
  {
   "cell_type": "markdown",
   "metadata": {},
   "source": [
    "## 更新 "
   ]
  },
  {
   "cell_type": "code",
   "execution_count": 129,
   "metadata": {},
   "outputs": [
    {
     "name": "stdout",
     "output_type": "stream",
     "text": [
      "{'n': 1, 'nModified': 0, 'ok': 1.0, 'updatedExisting': True}\n"
     ]
    },
    {
     "name": "stderr",
     "output_type": "stream",
     "text": [
      "/usr/local/anaconda3/lib/python3.6/site-packages/ipykernel_launcher.py:4: DeprecationWarning: update is deprecated. Use replace_one, update_one or update_many instead.\n",
      "  after removing the cwd from sys.path.\n"
     ]
    }
   ],
   "source": [
    "condition={'name':'yanzhengwei'}\n",
    "student=collection.find_one(condition)\n",
    "student['age']=25\n",
    "result=collection.update(condition,student)\n",
    "# 另外一种更新\n",
    "# result=collection.update(condition,{'set':student})\n",
    "print(result)"
   ]
  },
  {
   "cell_type": "code",
   "execution_count": 133,
   "metadata": {},
   "outputs": [
    {
     "name": "stdout",
     "output_type": "stream",
     "text": [
      "<pymongo.results.UpdateResult object at 0x7f98c113cdc8>\n",
      "1 1\n"
     ]
    }
   ],
   "source": [
    "#使用官方推荐的更新\n",
    "condition={'name':'yanzhengwei'}\n",
    "student=collection.find_one(condition)\n",
    "student['age']=26\n",
    "result=collection.update_one(condition,{'$set':student})\n",
    "print(result)\n",
    "print(result.matched_count,result.modified_count)"
   ]
  },
  {
   "cell_type": "code",
   "execution_count": 134,
   "metadata": {},
   "outputs": [
    {
     "name": "stdout",
     "output_type": "stream",
     "text": [
      "<pymongo.results.UpdateResult object at 0x7f98c113c808>\n",
      "1 1\n"
     ]
    }
   ],
   "source": [
    "condition={'age':{'$gt':20}}\n",
    "result=collection.update_one(condition,{'$inc':{'age':1}})\n",
    "print(result)\n",
    "print(result.matched_count,result.modified_count)"
   ]
  },
  {
   "cell_type": "code",
   "execution_count": 136,
   "metadata": {},
   "outputs": [
    {
     "name": "stdout",
     "output_type": "stream",
     "text": [
      "<pymongo.results.UpdateResult object at 0x7f98c113cdc8>\n",
      "6 6\n"
     ]
    }
   ],
   "source": [
    "condition={'age':{'$gt':20}}\n",
    "result=collection.update_many(condition,{'$inc':{'age':1}})\n",
    "print(result)\n",
    "print(result.matched_count,result.modified_count)"
   ]
  },
  {
   "cell_type": "markdown",
   "metadata": {},
   "source": [
    "## 删除"
   ]
  },
  {
   "cell_type": "code",
   "execution_count": 140,
   "metadata": {},
   "outputs": [
    {
     "name": "stdout",
     "output_type": "stream",
     "text": [
      "{'n': 0, 'ok': 1.0}\n"
     ]
    },
    {
     "name": "stderr",
     "output_type": "stream",
     "text": [
      "/usr/local/anaconda3/lib/python3.6/site-packages/ipykernel_launcher.py:1: DeprecationWarning: remove is deprecated. Use delete_one or delete_many instead.\n",
      "  \"\"\"Entry point for launching an IPython kernel.\n"
     ]
    }
   ],
   "source": [
    "result=collection.remove({'name':'yanzhengwei'})\n",
    "print(result)"
   ]
  },
  {
   "cell_type": "code",
   "execution_count": 143,
   "metadata": {},
   "outputs": [
    {
     "name": "stdout",
     "output_type": "stream",
     "text": [
      "<pymongo.results.DeleteResult object at 0x7f98c113dd88>\n",
      "0\n"
     ]
    }
   ],
   "source": [
    "result=collection.delete_one({'name':'yanzhengwei'})\n",
    "print(result)\n",
    "print(result.deleted_count)"
   ]
  },
  {
   "cell_type": "code",
   "execution_count": 144,
   "metadata": {},
   "outputs": [
    {
     "name": "stdout",
     "output_type": "stream",
     "text": [
      "<pymongo.results.DeleteResult object at 0x7f98c113c748>\n",
      "1\n"
     ]
    }
   ],
   "source": [
    "result=collection.delete_one({'age':{'$lt':25}})\n",
    "print(result)\n",
    "print(result.deleted_count)"
   ]
  },
  {
   "cell_type": "code",
   "execution_count": null,
   "metadata": {},
   "outputs": [],
   "source": []
  }
 ],
 "metadata": {
  "kernelspec": {
   "display_name": "Python 3",
   "language": "python",
   "name": "python3"
  },
  "language_info": {
   "codemirror_mode": {
    "name": "ipython",
    "version": 3
   },
   "file_extension": ".py",
   "mimetype": "text/x-python",
   "name": "python",
   "nbconvert_exporter": "python",
   "pygments_lexer": "ipython3",
   "version": "3.6.5"
  }
 },
 "nbformat": 4,
 "nbformat_minor": 2
}
