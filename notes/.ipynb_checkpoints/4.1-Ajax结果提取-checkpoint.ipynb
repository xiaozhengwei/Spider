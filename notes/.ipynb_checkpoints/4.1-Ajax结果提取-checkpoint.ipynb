{
 "cells": [
  {
   "cell_type": "code",
   "execution_count": 14,
   "metadata": {},
   "outputs": [],
   "source": [
    "from urllib.parse import urlencode\n",
    "from pyquery import PyQuery as pd\n",
    "import requests"
   ]
  },
  {
   "cell_type": "code",
   "execution_count": 15,
   "metadata": {},
   "outputs": [],
   "source": [
    "base_url = 'https://m.weibo.cn/api/container/getIndex?'"
   ]
  },
  {
   "cell_type": "code",
   "execution_count": 16,
   "metadata": {},
   "outputs": [],
   "source": [
    "headers={\n",
    "    \"Host\" : 'm.weibo.cn',\n",
    "    \"Referer\" : \"https://m.weibo.cn/u/2830678474\",\n",
    "    \"User-Agent\" : \"Mozilla/5.0 (Windows NT 10.0; Win64; x64) AppleWebKit/537.36 (KHTML, like Gecko) Chrome/74.0.3729.131 Safari/537.36\",\n",
    "    \"X-Requested-With\" : \"XMLHttpRequest\"\n",
    "}"
   ]
  },
  {
   "cell_type": "code",
   "execution_count": 17,
   "metadata": {},
   "outputs": [],
   "source": [
    "def get_page(page):\n",
    "    params={\n",
    "        'type':'uid',\n",
    "        'value':'2830678474',\n",
    "        'containerid':'1076032830678474',\n",
    "        'page':page\n",
    "    }\n",
    "    url=base_url+urlencode(params)\n",
    "    try:\n",
    "        response=requests.get(url,headers=headers)\n",
    "        if(response.status_code==200):\n",
    "            return response.json()\n",
    "    except requests.ConnectionError as e:\n",
    "        print('Error',e.args)"
   ]
  },
  {
   "cell_type": "code",
   "execution_count": 18,
   "metadata": {},
   "outputs": [],
   "source": [
    "def parse_page(json):\n",
    "    if json :\n",
    "        items=json.get('data').get('cards')\n",
    "        for item in items:\n",
    "            item=item.get('mblog')\n",
    "            weibo={}\n",
    "            weibo['id']=item.get('id')\n",
    "            weibo['text']=pd(item.get('text')).text()\n",
    "            weibo['attitudes']=item.get('attitudes_count')\n",
    "            weibo['comments']=item.get('comments_count')\n",
    "            weibo['reposts']=item.get('reports_count')\n",
    "            yield weibo"
   ]
  },
  {
   "cell_type": "code",
   "execution_count": null,
   "metadata": {},
   "outputs": [],
   "source": [
    "if __name__=='__main__':\n",
    "    for page in range(1,11):\n",
    "        json=get_page(page)\n",
    "        results=parse_page(json)\n",
    "        for result in results:\n",
    "            print(result)"
   ]
  },
  {
   "cell_type": "code",
   "execution_count": null,
   "metadata": {},
   "outputs": [],
   "source": []
  }
 ],
 "metadata": {
  "kernelspec": {
   "display_name": "Python 3",
   "language": "python",
   "name": "python3"
  },
  "language_info": {
   "codemirror_mode": {
    "name": "ipython",
    "version": 3
   },
   "file_extension": ".py",
   "mimetype": "text/x-python",
   "name": "python",
   "nbconvert_exporter": "python",
   "pygments_lexer": "ipython3",
   "version": "3.7.3"
  }
 },
 "nbformat": 4,
 "nbformat_minor": 2
}
