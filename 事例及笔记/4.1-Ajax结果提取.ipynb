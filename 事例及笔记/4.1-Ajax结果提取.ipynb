{
 "cells": [
  {
   "cell_type": "code",
   "execution_count": 14,
   "metadata": {},
   "outputs": [],
   "source": [
    "from urllib.parse import urlencode\n",
    "from pyquery import PyQuery as pd\n",
    "import requests"
   ]
  },
  {
   "cell_type": "code",
   "execution_count": 15,
   "metadata": {},
   "outputs": [],
   "source": [
    "base_url = 'https://m.weibo.cn/api/container/getIndex?'"
   ]
  },
  {
   "cell_type": "code",
   "execution_count": 16,
   "metadata": {},
   "outputs": [],
   "source": [
    "headers={\n",
    "    \"Host\" : 'm.weibo.cn',\n",
    "    \"Referer\" : \"https://m.weibo.cn/u/2830678474\",\n",
    "    \"User-Agent\" : \"Mozilla/5.0 (Windows NT 10.0; Win64; x64) AppleWebKit/537.36 (KHTML, like Gecko) Chrome/74.0.3729.131 Safari/537.36\",\n",
    "    \"X-Requested-With\" : \"XMLHttpRequest\"\n",
    "}"
   ]
  },
  {
   "cell_type": "code",
   "execution_count": 17,
   "metadata": {},
   "outputs": [],
   "source": [
    "def get_page(page):\n",
    "    params={\n",
    "        'type':'uid',\n",
    "        'value':'2830678474',\n",
    "        'containerid':'1076032830678474',\n",
    "        'page':page\n",
    "    }\n",
    "    url=base_url+urlencode(params)\n",
    "    try:\n",
    "        response=requests.get(url,headers=headers)\n",
    "        if(response.status_code==200):\n",
    "            return response.json()\n",
    "    except requests.ConnectionError as e:\n",
    "        print('Error',e.args)"
   ]
  },
  {
   "cell_type": "code",
   "execution_count": 18,
   "metadata": {},
   "outputs": [],
   "source": [
    "def parse_page(json):\n",
    "    if json :\n",
    "        items=json.get('data').get('cards')\n",
    "        for item in items:\n",
    "            item=item.get('mblog')\n",
    "            weibo={}\n",
    "            weibo['id']=item.get('id')\n",
    "            weibo['text']=pd(item.get('text')).text()\n",
    "            weibo['attitudes']=item.get('attitudes_count')\n",
    "            weibo['comments']=item.get('comments_count')\n",
    "            weibo['reposts']=item.get('reports_count')\n",
    "            yield weibo"
   ]
  },
  {
   "cell_type": "code",
   "execution_count": 21,
   "metadata": {},
   "outputs": [
    {
     "name": "stdout",
     "output_type": "stream",
     "text": [
      "{'id': '4379370120478270', 'text': '', 'attitudes': 2, 'comments': 1, 'reposts': None}\n",
      "{'id': '4379249320339142', 'text': '真的觉得，有一个好的领导太重要了，真的特别感谢领导的理解和关心！\\n小时候妈妈跟我说过，人生有三幸，上学的时候有个好的老师，工作后有个好的上司，结婚后有个好的老婆。\\n现在想想，真的感觉自己还是很幸运的。\\n好好工作，好好生活，感恩！ 北京', 'attitudes': 18, 'comments': 5, 'reposts': None}\n",
      "{'id': '4379151726915929', 'text': '谢天谢地，终于没事了！', 'attitudes': 3, 'comments': 5, 'reposts': None}\n",
      "{'id': '4378815520610316', 'text': '历经四个精致布景，两天两夜不眠不休的吐血剪辑之后，2019 年年度科幻悬疑励志爱情剧本——《小摸仙的故事》正式点映！ 崔庆才丨静觅的微博视频', 'attitudes': 17, 'comments': 9, 'reposts': None}\n",
      "{'id': '4378432202842663', 'text': '本来以为我做的排骨已经很好吃了，但吃到我老婆做的排骨，我跪了。\\n真是历史新高的好吃啊！现在还在回味。', 'attitudes': 18, 'comments': 1, 'reposts': None}\n",
      "{'id': '4378328138109315', 'text': '这鞋这么容易撞的吗？\\n不过我的是假的。 北京·奥体中心', 'attitudes': 4, 'comments': 4, 'reposts': None}\n",
      "{'id': '4378323360520805', 'text': '马上我就可以吃到啦！一会上图！', 'attitudes': 3, 'comments': 6, 'reposts': None}\n",
      "{'id': '4378142934049938', 'text': '我老婆真牛逼啊！//@长泽牙妹:我说错了 机票一张涨了两千五，我俩加起来省了五千什么叫旺夫命！！！', 'attitudes': 9, 'comments': 1, 'reposts': None}\n",
      "{'id': '4378058956179867', 'text': '今天和产品经理们讨论产品的时候，产品经理说了一句：这个我们这样做的话相比市面上的产品就优势不大了。\\n其实我想说的是，首先我们的确是有自己的优势点的，而且是技术上的独有优势。做一个产品，先不要想我们做出来优势大不大，要先做到和别人产品一样的水平，然后再在这个基础上进一步拔高，这才更 ...全文', 'attitudes': 18, 'comments': 8, 'reposts': None}\n",
      "{'id': '4376175218272062', 'text': '🐴 //@慵懒的小猫咪笨笨:马', 'attitudes': 7, 'comments': 4, 'reposts': None}\n",
      "{'id': '4376174899610230', 'text': '恭喜，不过我勇可不好打哦', 'attitudes': 4, 'comments': 1, 'reposts': None}\n",
      "{'id': '4375232657609918', 'text': '我错了', 'attitudes': 2, 'comments': 1, 'reposts': None}\n",
      "{'id': '4374986288192060', 'text': '遇到紧急情况，在公司和同事一起调 bug 直到现在，领导开车送我回的家。凌晨两点时候真的特别困，又因为卡 bug 而特别无助，当时想问自己，我这是在干什么？我这么做有什么意义呢？\\n后来，bug 终于解完了，坐车的时候我换位思考了下。领导现在大我七岁，现在有车有房有爱的人，每天做的工作又可以体现 ...全文', 'attitudes': 54, 'comments': 8, 'reposts': None}\n",
      "{'id': '4374440756584533', 'text': '啊啊啊啊啊，我老婆做的肉饼太好吃了，找回了童年马师傅火烧的感觉！！！', 'attitudes': 13, 'comments': 0, 'reposts': None}\n",
      "{'id': '4373621868522947', 'text': '今天我给老婆做饭啦，西红柿鸡蛋面！\\n不过不怎么好吃，我会继续努力的。', 'attitudes': 11, 'comments': 4, 'reposts': None}\n",
      "{'id': '4373405467836997', 'text': '30多号一共排号十几分钟就好啦，好吃！！！ 北京·奥林匹克森林公园', 'attitudes': 4, 'comments': 2, 'reposts': None}\n",
      "{'id': '4373397515520061', 'text': '今天晚上和老婆出来吃海底捞，来到了国奥村店，但是看到门店并不是特别亮，咋黑灯瞎火的呢？听说是新开的一个店。\\n当时我俩就觉得这个是不是假的店呀，还在看看这个招牌 LOGO，对的呀没错啊。\\n然后正当我们将信将疑的时候，我们走到门口瞬间就过来了一个人，热情的迎接我们，这时候我们坚信，这肯定是 ...全文', 'attitudes': 4, 'comments': 3, 'reposts': None}\n",
      "{'id': '4373290815877368', 'text': '波神要去杭州阿里了，好好干，未来成为千万富翁别忘了我。\\nP.S. 图左优质单身程序员一枚，精通 PHP、JavaScript、Python、Go、Java，有意向的妹子或老板欢迎勾搭。', 'attitudes': 21, 'comments': 7, 'reposts': None}\n",
      "{'id': '4373263750155703', 'text': '', 'attitudes': 1, 'comments': 0, 'reposts': None}\n",
      "{'id': '4372855053384821', 'text': '我老婆拿着一个袋子，袋子里只放着一把 🔑。\\n老婆：你拿拿，重重。\\n我接过来，惊了。\\n我：重...重吗？\\n老婆：嗯？不重吗？\\n我：重重重重重。\\n老婆：嗯？重吗？\\n我：不重不重不重不重。\\n老婆：嗯？不重吗？\\n我：啊？ 还行吧。\\n你说应该说重呢还 ...全文', 'attitudes': 6, 'comments': 8, 'reposts': None}\n",
      "{'id': '4372581945499645', 'text': '错误不可怕，可怕的是认识不到，更可怕的是认识到了还各种理由。\\n加油继续修炼，我要变得更好啊，不论是在工作还是生活。', 'attitudes': 16, 'comments': 1, 'reposts': None}\n",
      "{'id': '4372342060773272', 'text': '接触人多了发现，人和人的差别还是很大的，靠谱和不靠谱，一些小事能分得清清楚楚。\\n现在我在擦屁股。\\n不整好觉得整个人都不舒服。', 'attitudes': 12, 'comments': 1, 'reposts': None}\n",
      "{'id': '4371612687761747', 'text': '下班了，其实我累的时候我会思考，我在做的事情意义有多大，我的方向对不对，有什么需要调整的地方。\\n其实工作，照理来说，单论快速完成的话，我可以快速完成，自己没有什么压力。\\n但是自己总感觉这样不可取的，可能我这个人太强迫症了，我现在把工作的项目当成自己创业的项目来做，我想把每个项目每个 ...全文', 'attitudes': 42, 'comments': 7, 'reposts': None}\n",
      "{'id': '4371606497040790', 'text': '今天可谓是效率极低了...', 'attitudes': 3, 'comments': 1, 'reposts': None}\n",
      "{'id': '4371487580446391', 'text': '正式入职两个月了，第三次参加封闭开发，加油！ 北京·微软亚太研发集团总部', 'attitudes': 26, 'comments': 6, 'reposts': None}\n",
      "{'id': '4369791164515208', 'text': '我为啥没有', 'attitudes': 1, 'comments': 1, 'reposts': None}\n",
      "{'id': '4369472914078310', 'text': '搞了半天服务器一直访问不了，最后发现是域名解析的地址解析错了。', 'attitudes': 7, 'comments': 2, 'reposts': None}\n",
      "{'id': '4369467141874962', 'text': '今天我是一个技术博主，发表了一篇文章，为什么你就不能加个空格呢？为什么你就不能加个空格呢？', 'attitudes': 7, 'comments': 3, 'reposts': None}\n",
      "{'id': '4369466806281129', 'text': '今天晚上是骑车回家的，在路上一边骑车一边跟老婆视频，觉得很快就到家了。', 'attitudes': 6, 'comments': 7, 'reposts': None}\n",
      "{'id': '4369234043610806', 'text': '整个演说视频我一直收藏着，我杜第一次夺得常规赛 MVP！', 'attitudes': 5, 'comments': 1, 'reposts': None}\n",
      "{'id': '4368731482188074', 'text': '', 'attitudes': 3, 'comments': 0, 'reposts': None}\n",
      "{'id': '4368547939587452', 'text': '', 'attitudes': 1, 'comments': 3, 'reposts': None}\n",
      "{'id': '4368333334338461', 'text': '我老婆是我的厨师、营养搭配师、体能训练师、旅游规划师、美食导购师和产品经理。\\n还这么好看。 北京·学清路', 'attitudes': 12, 'comments': 13, 'reposts': None}\n",
      "{'id': '4367867930158138', 'text': '跟老婆快快乐乐去玩水啦！咦怎么这么多小孩子？哦，是儿童水上乐园。 北京·水立方嬉水乐园', 'attitudes': 8, 'comments': 1, 'reposts': None}\n",
      "{'id': '4367792709494432', 'text': '一觉醒来，老婆又早早做好了韭菜鸡蛋煎包，好次！！！', 'attitudes': 22, 'comments': 5, 'reposts': None}\n",
      "{'id': '4367608066800619', 'text': '老婆给我发陪逛街费了，真香！ 北京 · 西四', 'attitudes': 10, 'comments': 14, 'reposts': None}\n",
      "{'id': '4367290742797932', 'text': '打卡恐怖类密室逃脱百花深处，攀成钢串串，网球对抗赛，开熏！ 北京', 'attitudes': 4, 'comments': 0, 'reposts': None}\n",
      "{'id': '4366933849380177', 'text': '五一了，2019 过了三分之一了，距离我的年度目标仿佛还有 99% 的路没走？', 'attitudes': 4, 'comments': 0, 'reposts': None}\n",
      "{'id': '4366933442908578', 'text': '其实挺多事吧，都是一个态度问题。\\n然而在被怀疑、被指责、被欺骗的时候，在一瞬间保持一个好的态度是很难的。', 'attitudes': 7, 'comments': 2, 'reposts': None}\n",
      "{'id': '4366361390429168', 'text': '牛逼，开源了吗？//@长泽牙妹:程序员改变世界系列//@俄勒冈七姐: 马克一下！！//@绯枷: 我有点想做VLOG哎，专门拍老王挑珍珠…=。= （是不是有点傻 //@奶奶扣:这点子不错哎//@混世魔王葡萄子: 马克', 'attitudes': 3, 'comments': 1, 'reposts': None}\n",
      "{'id': '4365811399456253', 'text': '', 'attitudes': 2, 'comments': 1, 'reposts': None}\n",
      "{'id': '4365794232553282', 'text': '复联四让人吐槽的点实在是太多了，各种逻辑漏洞，我觉得不太行，我就不剧透了，你们自己去看吧。', 'attitudes': 5, 'comments': 3, 'reposts': None}\n",
      "{'id': '4365713001091620', 'text': '打服了', 'attitudes': 1, 'comments': 1, 'reposts': None}\n",
      "{'id': '4365710858364845', 'text': '', 'attitudes': 0, 'comments': 0, 'reposts': None}\n",
      "{'id': '4365637751026009', 'text': '我老婆从昨天晚上开始剁肉馅，然后今天早上五点多起床开始和面，发面。\\n好了之后然后开始调馅，然后再蒸，然后煎，然后最后才出来的这个样子。\\n有两个口味，韭菜酱肉粉条还有猪肉大葱！\\n虽然我觉得很“可爱”，但我觉得这个味道确实相当的到位，我老婆牛逼！', 'attitudes': 26, 'comments': 10, 'reposts': None}\n",
      "{'id': '4365094492322677', 'text': '壮哉我大微软', 'attitudes': 2, 'comments': 1, 'reposts': None}\n",
      "{'id': '4364899171906711', 'text': '我怎么就忘了货拉拉呢！//@林钦波___:你可以试试叫一下那些搬家的 上次我同事打不到就叫的这个，还很便宜', 'attitudes': 3, 'comments': 0, 'reposts': None}\n",
      "{'id': '4364898081438618', 'text': '早上去公司健身房洗了趟澡，舒服！\\n然后一想，反正健身器材就在旁边，去拉一下试试吧。调到我常用的六档，哎呦卧槽，怎么拉不动了，这么费劲！然后五档，妈的怎么这么费力，最后在四档做完了三组。 好久不练退化了。\\n不过健身房人好少哦，体能中心只看到阿姨一人在擦器材。\\n另外，为什么我平时不 ...全文', 'attitudes': 7, 'comments': 10, 'reposts': None}\n",
      "{'id': '4364889096985036', 'text': '久违的豆浆泡油条，公司早饭可以啊！\\n虽然我不咋吃\\n所以我今天为什么吃早饭了呢？\\n是有一定原因的 北京·微软亚太研发集团总部', 'attitudes': 13, 'comments': 3, 'reposts': None}\n",
      "{'id': '4364883161946520', 'text': '😂😂😂 牛逼//@Fitness_Mars:9分威少最难防，9板威少最积极，9助威少最无私，三9威少赛乔丹', 'attitudes': 1, 'comments': 0, 'reposts': None}\n",
      "{'id': '4364743064081407', 'text': '回不了家了卧槽... 北京·微软亚太研发集团总部', 'attitudes': 4, 'comments': 10, 'reposts': None}\n",
      "{'id': '4364657328882537', 'text': '不惜一切代价，只为逆转无限。我正在使用“复仇者联盟4:终局之战”#微博个性皮肤#，快来集结，一同迎接终局之战！个性皮肤：复仇者联盟4', 'attitudes': 0, 'comments': 1, 'reposts': None}\n",
      "{'id': '4364530631083543', 'text': '今天老子是不会刷微博的，剧透妇联4的都得 💩！', 'attitudes': 4, 'comments': 3, 'reposts': None}\n",
      "{'id': '4364324522484439', 'text': '', 'attitudes': 1, 'comments': 1, 'reposts': None}\n",
      "{'id': '4364323818156150', 'text': '', 'attitudes': 0, 'comments': 0, 'reposts': None}\n",
      "{'id': '4364139134630258', 'text': '微微出汗杜兰特', 'attitudes': 2, 'comments': 0, 'reposts': None}\n",
      "{'id': '4364138006676483', 'text': '一不小心，微微出汗。', 'attitudes': 3, 'comments': 0, 'reposts': None}\n",
      "{'id': '4364025007061174', 'text': '', 'attitudes': 7, 'comments': 1, 'reposts': None}\n",
      "{'id': '4364023464114361', 'text': '又到了交配的季节。', 'attitudes': 4, 'comments': 0, 'reposts': None}\n",
      "{'id': '4363986503937652', 'text': '酒桌上那人啊，一直逼逼劝酒，最后就自己喝成那个样，几桌子人盯着看他酩酊大醉的样子，真可笑，真可悲，真垃圾啊。', 'attitudes': 9, 'comments': 5, 'reposts': None}\n",
      "{'id': '4363707192334993', 'text': '深夜撸代码，又撸到怀疑人生。\\n拿起手机一刷，卧槽！！！三点有勇士比赛！！我杜！！哈哈哈！！！嚯！来精神了！！', 'attitudes': 8, 'comments': 4, 'reposts': None}\n",
      "{'id': '4363615429721565', 'text': '', 'attitudes': 0, 'comments': 0, 'reposts': None}\n",
      "{'id': '4363305131180733', 'text': '多出去看看，你才知道自己有多么垃圾。', 'attitudes': 16, 'comments': 2, 'reposts': None}\n",
      "{'id': '4363147374244256', 'text': '周末改善伙食，黑椒牛排、海鲜粥、蔬菜沙拉、糖心鸡蛋。 大厨：彬哥、小马还有我（洗菜的）[呲牙]', 'attitudes': 5, 'comments': 0, 'reposts': None}\n"
     ]
    },
    {
     "name": "stdout",
     "output_type": "stream",
     "text": [
      "{'id': '4363117263994847', 'text': '', 'attitudes': 5, 'comments': 0, 'reposts': None}\n",
      "{'id': '4363109386657899', 'text': '：你是不是不爱我了，你最爱的是代码，其次是杜兰特，然后才是我。\\n：不是怎么可能，我最爱的当然是你。\\n：Python 代码有几个缩进？\\n：四个！\\n：杜兰特身高是多少？\\n：211\\n：我有几根头发。？\\n……（WTF 还有这种操作？？？\\n：你看，你连我有几根头发都不知道，怎 ...全文', 'attitudes': 16, 'comments': 16, 'reposts': None}\n",
      "{'id': '4362917228669448', 'text': '嘻嘻嘻，老婆过生日啦，一起打卡 Revens，汉堡和沙拉还是很好吃的，惠灵顿牛排，我老婆可以做得比它更好吃！\\n祝我老婆生日快乐！天天开心心！永远十八岁！ 北京·北锣鼓巷', 'attitudes': 18, 'comments': 4, 'reposts': None}\n",
      "{'id': '4362348917011512', 'text': '@长泽牙妹', 'attitudes': 0, 'comments': 1, 'reposts': None}\n",
      "{'id': '4362348561001001', 'text': '@长泽牙妹', 'attitudes': 1, 'comments': 0, 'reposts': None}\n",
      "{'id': '4362235948170191', 'text': '其实挺喜欢某天晚上什么都不管，静静看一会书的时候。', 'attitudes': 5, 'comments': 2, 'reposts': None}\n",
      "{'id': '4362235214079741', 'text': '我在大麦发现了一个很棒的演出『李荣浩 【年少有为】巡回演唱会-北京站』，你们也赶快过来看看吧!#去现场为所爱#（通过@大麦网 发布）网页链接 @长泽牙妹', 'attitudes': 2, 'comments': 0, 'reposts': None}\n",
      "{'id': '4362227873988237', 'text': '有时候我在想，很多时候我做的一些事到底有没有用，是不是在做无用功。\\n其实可以这么思考，现在回想一下，当时我们初中高中学的东西，在现在看来有没有用呢？你可能说现在一点用都没有，全都忘干净了。然而，假若在那个时候我们不知道这些你已经遗忘的知识，我们可以走到今天这一步吗？显然，不能。当 ...全文', 'attitudes': 18, 'comments': 8, 'reposts': None}\n",
      "{'id': '4361291709287279', 'text': '昨天小马给我俩一人买了一双拖鞋，安德玛的，一双 279，我心想卧槽这么这么贵，不就是个拖鞋吗？我的拖鞋都二三十块钱，后来一穿，真舒服啊，真香！\\n今天小马给我买的 Airpods 到了，本来没用过这玩意，心想就是俩无线耳机啊，后来自动连接、自动检测、自动暂停、自动播放，苹果还是很用心了，卧槽又真 ...全文', 'attitudes': 18, 'comments': 10, 'reposts': None}\n",
      "{'id': '4361125753184692', 'text': '司机：？？？\\n恍恍惚惚\\n不得不说捏完 jiojio 真爽啊 北京·颐润堂专业养生(五道口华清嘉园店)', 'attitudes': 1, 'comments': 1, 'reposts': None}\n",
      "{'id': '4361065066081234', 'text': '崔庆才丨静觅的微博视频', 'attitudes': 15, 'comments': 11, 'reposts': None}\n",
      "{'id': '4360820584482909', 'text': '别一味向前冲，有时候也得停下来想想为什么。', 'attitudes': 13, 'comments': 1, 'reposts': None}\n",
      "{'id': '4360578824474455', 'text': '大吉大利，今天吃鸡！', 'attitudes': 6, 'comments': 3, 'reposts': None}\n",
      "{'id': '4359487315654410', 'text': '回复@马克不思不吐温:不，我是炫妻狂魔！//@马克不思不吐温:宠妻狂魔', 'attitudes': 3, 'comments': 1, 'reposts': None}\n",
      "{'id': '4358182510256805', 'text': '有人说我拍照不给美颜说我是直男，其实我要跟他说\\n\\n我老婆这么好看！不需要美颜！！！ 无锡 · 茂业天地', 'attitudes': 21, 'comments': 10, 'reposts': None}\n",
      "{'id': '4358168307318196', 'text': '无锡第三弹，麻辣牛蛙加酸辣粉，无辣不欢！！ 无锡 · 南长街', 'attitudes': 5, 'comments': 0, 'reposts': None}\n",
      "{'id': '4358036368201697', 'text': '无锡第二弹，梅花糕和大椰子！ 无锡·南禅寺步行街', 'attitudes': 8, 'comments': 2, 'reposts': None}\n",
      "{'id': '4358027312713111', 'text': '无锡第一弹，鲜嫩鲜嫩的小笼包！ 无锡·南禅寺步行街', 'attitudes': 6, 'comments': 0, 'reposts': None}\n",
      "{'id': '4357486243284848', 'text': '论老婆的重要性！@长泽牙妹', 'attitudes': 1, 'comments': 2, 'reposts': None}\n",
      "{'id': '4356916539201823', 'text': '//@风尘丶刻画你的脸:重构一时爽，一直重构一直爽', 'attitudes': 12, 'comments': 0, 'reposts': None}\n",
      "{'id': '4356813115689870', 'text': '一晚上重构完了一个大项目，下午五点左右设计重构方案，一晚上重构完了十个 Pipeline，终于舒服了！\\n近期的活儿也就告一段落了！\\n入职到现在共做完了三个项目，其实我真感觉我效率不低了，从熟悉环境到弄通架构到分离模块到重构系统，学到不少，继续加油！ 北京', 'attitudes': 33, 'comments': 10, 'reposts': None}\n",
      "{'id': '4355993305506837', 'text': '小马来之后 vs 小马走之后', 'attitudes': 13, 'comments': 5, 'reposts': None}\n",
      "{'id': '4355891958010671', 'text': '周末改善伙食，自制蛋挞，牛排，鸡腿，烤鱼。\\n来自小马大厨。 北京', 'attitudes': 17, 'comments': 1, 'reposts': None}\n",
      "{'id': '4355882600449147', 'text': '今天是烤鱼烤鸡腿！', 'attitudes': 9, 'comments': 2, 'reposts': None}\n",
      "{'id': '4355675624593013', 'text': '', 'attitudes': 3, 'comments': 0, 'reposts': None}\n",
      "{'id': '4355629541279380', 'text': '考爆了。', 'attitudes': 6, 'comments': 1, 'reposts': None}\n",
      "{'id': '4355625825589283', 'text': '自制蛋挞！', 'attitudes': 9, 'comments': 0, 'reposts': None}\n",
      "{'id': '4355077856863241', 'text': '', 'attitudes': 1, 'comments': 0, 'reposts': None}\n",
      "{'id': '4354214345930977', 'text': '重构一时爽，Debug 火葬场。 北京 · 中关村', 'attitudes': 16, 'comments': 0, 'reposts': None}\n",
      "{'id': '4354138206423464', 'text': '//@程序员邹欣://@微软学术合作:相信每一个参与了Ada Workshop的女生，都能在这里找到内心的榜样和力量~', 'attitudes': 3, 'comments': 2, 'reposts': None}\n"
     ]
    }
   ],
   "source": [
    "if __name__=='__main__':\n",
    "    for page in range(1,11):\n",
    "        json=get_page(page)\n",
    "        results=parse_page(json)\n",
    "        for result in results:\n",
    "            print(result)"
   ]
  },
  {
   "cell_type": "code",
   "execution_count": null,
   "metadata": {},
   "outputs": [],
   "source": []
  }
 ],
 "metadata": {
  "kernelspec": {
   "display_name": "Python 3",
   "language": "python",
   "name": "python3"
  },
  "language_info": {
   "codemirror_mode": {
    "name": "ipython",
    "version": 3
   },
   "file_extension": ".py",
   "mimetype": "text/x-python",
   "name": "python",
   "nbconvert_exporter": "python",
   "pygments_lexer": "ipython3",
   "version": "3.7.3"
  }
 },
 "nbformat": 4,
 "nbformat_minor": 2
}
